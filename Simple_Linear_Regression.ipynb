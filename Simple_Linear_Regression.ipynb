{
  "nbformat": 4,
  "nbformat_minor": 0,
  "metadata": {
    "colab": {
      "provenance": [],
      "gpuType": "T4",
      "authorship_tag": "ABX9TyMJyGW5NjwwmG7dDrK2HKMd",
      "include_colab_link": true
    },
    "kernelspec": {
      "name": "python3",
      "display_name": "Python 3"
    },
    "language_info": {
      "name": "python"
    },
    "accelerator": "GPU",
    "widgets": {
      "application/vnd.jupyter.widget-state+json": {
        "92548b5da2094f6d8d87686271f49b16": {
          "model_module": "@jupyter-widgets/controls",
          "model_name": "TextModel",
          "model_module_version": "1.5.0",
          "state": {
            "_dom_classes": [],
            "_model_module": "@jupyter-widgets/controls",
            "_model_module_version": "1.5.0",
            "_model_name": "TextModel",
            "_view_count": null,
            "_view_module": "@jupyter-widgets/controls",
            "_view_module_version": "1.5.0",
            "_view_name": "TextView",
            "continuous_update": true,
            "description": "Total bill (PKR):",
            "description_tooltip": null,
            "disabled": false,
            "layout": "IPY_MODEL_ac2a452ccc1f41949321fb3a79da5c8c",
            "placeholder": "Enter total bill amount",
            "style": "IPY_MODEL_a0ed70f8f1d145ad8eb13f980cf7dd8b",
            "value": "23.3"
          }
        },
        "ac2a452ccc1f41949321fb3a79da5c8c": {
          "model_module": "@jupyter-widgets/base",
          "model_name": "LayoutModel",
          "model_module_version": "1.2.0",
          "state": {
            "_model_module": "@jupyter-widgets/base",
            "_model_module_version": "1.2.0",
            "_model_name": "LayoutModel",
            "_view_count": null,
            "_view_module": "@jupyter-widgets/base",
            "_view_module_version": "1.2.0",
            "_view_name": "LayoutView",
            "align_content": null,
            "align_items": null,
            "align_self": null,
            "border": null,
            "bottom": null,
            "display": null,
            "flex": null,
            "flex_flow": null,
            "grid_area": null,
            "grid_auto_columns": null,
            "grid_auto_flow": null,
            "grid_auto_rows": null,
            "grid_column": null,
            "grid_gap": null,
            "grid_row": null,
            "grid_template_areas": null,
            "grid_template_columns": null,
            "grid_template_rows": null,
            "height": null,
            "justify_content": null,
            "justify_items": null,
            "left": null,
            "margin": null,
            "max_height": null,
            "max_width": null,
            "min_height": null,
            "min_width": null,
            "object_fit": null,
            "object_position": null,
            "order": null,
            "overflow": null,
            "overflow_x": null,
            "overflow_y": null,
            "padding": null,
            "right": null,
            "top": null,
            "visibility": null,
            "width": null
          }
        },
        "a0ed70f8f1d145ad8eb13f980cf7dd8b": {
          "model_module": "@jupyter-widgets/controls",
          "model_name": "DescriptionStyleModel",
          "model_module_version": "1.5.0",
          "state": {
            "_model_module": "@jupyter-widgets/controls",
            "_model_module_version": "1.5.0",
            "_model_name": "DescriptionStyleModel",
            "_view_count": null,
            "_view_module": "@jupyter-widgets/base",
            "_view_module_version": "1.2.0",
            "_view_name": "StyleView",
            "description_width": ""
          }
        },
        "5f6d3c5a12d34a569fe09c6b621138ba": {
          "model_module": "@jupyter-widgets/controls",
          "model_name": "ButtonModel",
          "model_module_version": "1.5.0",
          "state": {
            "_dom_classes": [],
            "_model_module": "@jupyter-widgets/controls",
            "_model_module_version": "1.5.0",
            "_model_name": "ButtonModel",
            "_view_count": null,
            "_view_module": "@jupyter-widgets/controls",
            "_view_module_version": "1.5.0",
            "_view_name": "ButtonView",
            "button_style": "",
            "description": "Predict Tip",
            "disabled": false,
            "icon": "",
            "layout": "IPY_MODEL_2a510b2390bd43789d3b15a7b19b488a",
            "style": "IPY_MODEL_d3f43e0a33604da7bfb11bd78aae0d3b",
            "tooltip": "Click to predict tip"
          }
        },
        "2a510b2390bd43789d3b15a7b19b488a": {
          "model_module": "@jupyter-widgets/base",
          "model_name": "LayoutModel",
          "model_module_version": "1.2.0",
          "state": {
            "_model_module": "@jupyter-widgets/base",
            "_model_module_version": "1.2.0",
            "_model_name": "LayoutModel",
            "_view_count": null,
            "_view_module": "@jupyter-widgets/base",
            "_view_module_version": "1.2.0",
            "_view_name": "LayoutView",
            "align_content": null,
            "align_items": null,
            "align_self": null,
            "border": null,
            "bottom": null,
            "display": null,
            "flex": null,
            "flex_flow": null,
            "grid_area": null,
            "grid_auto_columns": null,
            "grid_auto_flow": null,
            "grid_auto_rows": null,
            "grid_column": null,
            "grid_gap": null,
            "grid_row": null,
            "grid_template_areas": null,
            "grid_template_columns": null,
            "grid_template_rows": null,
            "height": null,
            "justify_content": null,
            "justify_items": null,
            "left": null,
            "margin": null,
            "max_height": null,
            "max_width": null,
            "min_height": null,
            "min_width": null,
            "object_fit": null,
            "object_position": null,
            "order": null,
            "overflow": null,
            "overflow_x": null,
            "overflow_y": null,
            "padding": null,
            "right": null,
            "top": null,
            "visibility": null,
            "width": null
          }
        },
        "d3f43e0a33604da7bfb11bd78aae0d3b": {
          "model_module": "@jupyter-widgets/controls",
          "model_name": "ButtonStyleModel",
          "model_module_version": "1.5.0",
          "state": {
            "_model_module": "@jupyter-widgets/controls",
            "_model_module_version": "1.5.0",
            "_model_name": "ButtonStyleModel",
            "_view_count": null,
            "_view_module": "@jupyter-widgets/base",
            "_view_module_version": "1.2.0",
            "_view_name": "StyleView",
            "button_color": null,
            "font_weight": ""
          }
        },
        "296d8c02107f4f25b3f790170ff496de": {
          "model_module": "@jupyter-widgets/controls",
          "model_name": "LabelModel",
          "model_module_version": "1.5.0",
          "state": {
            "_dom_classes": [],
            "_model_module": "@jupyter-widgets/controls",
            "_model_module_version": "1.5.0",
            "_model_name": "LabelModel",
            "_view_count": null,
            "_view_module": "@jupyter-widgets/controls",
            "_view_module_version": "1.5.0",
            "_view_name": "LabelView",
            "description": "",
            "description_tooltip": null,
            "layout": "IPY_MODEL_bdb5e5474be2471cafd1d7384c66016e",
            "placeholder": "​",
            "style": "IPY_MODEL_77f8f62ad1f648ec83fb442bf9bb42ab",
            "value": "Predicted tip amount: PKR 3.50"
          }
        },
        "bdb5e5474be2471cafd1d7384c66016e": {
          "model_module": "@jupyter-widgets/base",
          "model_name": "LayoutModel",
          "model_module_version": "1.2.0",
          "state": {
            "_model_module": "@jupyter-widgets/base",
            "_model_module_version": "1.2.0",
            "_model_name": "LayoutModel",
            "_view_count": null,
            "_view_module": "@jupyter-widgets/base",
            "_view_module_version": "1.2.0",
            "_view_name": "LayoutView",
            "align_content": null,
            "align_items": null,
            "align_self": null,
            "border": null,
            "bottom": null,
            "display": null,
            "flex": null,
            "flex_flow": null,
            "grid_area": null,
            "grid_auto_columns": null,
            "grid_auto_flow": null,
            "grid_auto_rows": null,
            "grid_column": null,
            "grid_gap": null,
            "grid_row": null,
            "grid_template_areas": null,
            "grid_template_columns": null,
            "grid_template_rows": null,
            "height": null,
            "justify_content": null,
            "justify_items": null,
            "left": null,
            "margin": null,
            "max_height": null,
            "max_width": null,
            "min_height": null,
            "min_width": null,
            "object_fit": null,
            "object_position": null,
            "order": null,
            "overflow": null,
            "overflow_x": null,
            "overflow_y": null,
            "padding": null,
            "right": null,
            "top": null,
            "visibility": null,
            "width": null
          }
        },
        "77f8f62ad1f648ec83fb442bf9bb42ab": {
          "model_module": "@jupyter-widgets/controls",
          "model_name": "DescriptionStyleModel",
          "model_module_version": "1.5.0",
          "state": {
            "_model_module": "@jupyter-widgets/controls",
            "_model_module_version": "1.5.0",
            "_model_name": "DescriptionStyleModel",
            "_view_count": null,
            "_view_module": "@jupyter-widgets/base",
            "_view_module_version": "1.2.0",
            "_view_name": "StyleView",
            "description_width": ""
          }
        }
      }
    }
  },
  "cells": [
    {
      "cell_type": "markdown",
      "metadata": {
        "id": "view-in-github",
        "colab_type": "text"
      },
      "source": [
        "<a href=\"https://colab.research.google.com/github/taimoorarsalan67/Code_for_Codexcue/blob/main/Simple_Linear_Regression.ipynb\" target=\"_parent\"><img src=\"https://colab.research.google.com/assets/colab-badge.svg\" alt=\"Open In Colab\"/></a>"
      ]
    },
    {
      "cell_type": "markdown",
      "source": [
        "# **Change CPU**"
      ],
      "metadata": {
        "id": "N_dhUhAg8uKm"
      }
    },
    {
      "cell_type": "code",
      "execution_count": 46,
      "metadata": {
        "colab": {
          "base_uri": "https://localhost:8080/"
        },
        "id": "24NWgfFYtBaA",
        "outputId": "cdc84bfd-59da-4738-e02c-64cb339c7cd2"
      },
      "outputs": [
        {
          "output_type": "stream",
          "name": "stdout",
          "text": [
            "Fri May 31 20:00:56 2024       \n",
            "+---------------------------------------------------------------------------------------+\n",
            "| NVIDIA-SMI 535.104.05             Driver Version: 535.104.05   CUDA Version: 12.2     |\n",
            "|-----------------------------------------+----------------------+----------------------+\n",
            "| GPU  Name                 Persistence-M | Bus-Id        Disp.A | Volatile Uncorr. ECC |\n",
            "| Fan  Temp   Perf          Pwr:Usage/Cap |         Memory-Usage | GPU-Util  Compute M. |\n",
            "|                                         |                      |               MIG M. |\n",
            "|=========================================+======================+======================|\n",
            "|   0  Tesla T4                       Off | 00000000:00:04.0 Off |                    0 |\n",
            "| N/A   37C    P8               9W /  70W |      0MiB / 15360MiB |      0%      Default |\n",
            "|                                         |                      |                  N/A |\n",
            "+-----------------------------------------+----------------------+----------------------+\n",
            "                                                                                         \n",
            "+---------------------------------------------------------------------------------------+\n",
            "| Processes:                                                                            |\n",
            "|  GPU   GI   CI        PID   Type   Process name                            GPU Memory |\n",
            "|        ID   ID                                                             Usage      |\n",
            "|=======================================================================================|\n",
            "|  No running processes found                                                           |\n",
            "+---------------------------------------------------------------------------------------+\n"
          ]
        }
      ],
      "source": [
        "!nvidia-smi"
      ]
    },
    {
      "cell_type": "markdown",
      "source": [
        "# **Mount Google Drive**"
      ],
      "metadata": {
        "id": "Zhep00Qp9wti"
      }
    },
    {
      "cell_type": "code",
      "source": [
        "from google.colab import drive\n",
        "\n",
        "drive.mount('/content/gdrive')\n"
      ],
      "metadata": {
        "colab": {
          "base_uri": "https://localhost:8080/"
        },
        "id": "V2uZ-pSM9x7N",
        "outputId": "fe8308f1-ac75-45c2-b7ee-36c939e197bf"
      },
      "execution_count": 47,
      "outputs": [
        {
          "output_type": "stream",
          "name": "stdout",
          "text": [
            "Drive already mounted at /content/gdrive; to attempt to forcibly remount, call drive.mount(\"/content/gdrive\", force_remount=True).\n"
          ]
        }
      ]
    },
    {
      "cell_type": "markdown",
      "source": [
        "# **DataSet Path**"
      ],
      "metadata": {
        "id": "g_BKkHRewN3i"
      }
    },
    {
      "cell_type": "code",
      "source": [
        "file_path = '/content/gdrive/MyDrive/CODEXCUE_DATA_SETS/Linear_Regression_tips.csv'"
      ],
      "metadata": {
        "id": "IZcqSST9urvB"
      },
      "execution_count": 48,
      "outputs": []
    },
    {
      "cell_type": "markdown",
      "source": [
        "# **Loading Dataset**"
      ],
      "metadata": {
        "id": "olaTn_ZLwhjw"
      }
    },
    {
      "cell_type": "code",
      "source": [
        "import pandas as pd\n",
        "df = pd.read_csv(file_path)\n"
      ],
      "metadata": {
        "id": "0F-ArotRur0_"
      },
      "execution_count": 49,
      "outputs": []
    },
    {
      "cell_type": "markdown",
      "source": [
        "# **Display and Exploring Dataset For Check Missing value**"
      ],
      "metadata": {
        "id": "JVztAlmDybMc"
      }
    },
    {
      "cell_type": "code",
      "source": [
        "pd.set_option('display.max_rows', None)  # Show all rows\n",
        "pd.set_option('display.max_columns', None)  # Show all columns\n",
        "pd.set_option('display.width', None)  # Set the display width to be unlimited\n",
        "pd.set_option('display.max_colwidth', None)  # Set the max column width to be unlimited\n",
        "\n",
        "\n",
        "print(df)"
      ],
      "metadata": {
        "colab": {
          "base_uri": "https://localhost:8080/"
        },
        "id": "PNFwNbqkur3f",
        "outputId": "53e26d18-d2b3-4781-da1f-8bdfb2eda5cc"
      },
      "execution_count": 50,
      "outputs": [
        {
          "output_type": "stream",
          "name": "stdout",
          "text": [
            "     total_bill    tip     sex smoker   day    time  size\n",
            "0         16.99   1.01  Female     No   Sun  Dinner     2\n",
            "1         10.34   1.66    Male     No   Sun  Dinner     3\n",
            "2         21.01   3.50    Male     No   Sun  Dinner     3\n",
            "3         23.68   3.31    Male     No   Sun  Dinner     2\n",
            "4         24.59   3.61  Female     No   Sun  Dinner     4\n",
            "5         25.29   4.71    Male     No   Sun  Dinner     4\n",
            "6          8.77   2.00    Male     No   Sun  Dinner     2\n",
            "7         26.88   3.12    Male     No   Sun  Dinner     4\n",
            "8         15.04   1.96    Male     No   Sun  Dinner     2\n",
            "9         14.78   3.23    Male     No   Sun  Dinner     2\n",
            "10        10.27   1.71    Male     No   Sun  Dinner     2\n",
            "11        35.26   5.00  Female     No   Sun  Dinner     4\n",
            "12        15.42   1.57    Male     No   Sun  Dinner     2\n",
            "13        18.43   3.00    Male     No   Sun  Dinner     4\n",
            "14        14.83   3.02  Female     No   Sun  Dinner     2\n",
            "15        21.58   3.92    Male     No   Sun  Dinner     2\n",
            "16        10.33   1.67  Female     No   Sun  Dinner     3\n",
            "17        16.29   3.71    Male     No   Sun  Dinner     3\n",
            "18        16.97   3.50  Female     No   Sun  Dinner     3\n",
            "19        20.65   3.35    Male     No   Sat  Dinner     3\n",
            "20        17.92   4.08    Male     No   Sat  Dinner     2\n",
            "21        20.29   2.75  Female     No   Sat  Dinner     2\n",
            "22        15.77   2.23  Female     No   Sat  Dinner     2\n",
            "23        39.42   7.58    Male     No   Sat  Dinner     4\n",
            "24        19.82   3.18    Male     No   Sat  Dinner     2\n",
            "25        17.81   2.34    Male     No   Sat  Dinner     4\n",
            "26        13.37   2.00    Male     No   Sat  Dinner     2\n",
            "27        12.69   2.00    Male     No   Sat  Dinner     2\n",
            "28        21.70   4.30    Male     No   Sat  Dinner     2\n",
            "29        19.65   3.00  Female     No   Sat  Dinner     2\n",
            "30         9.55   1.45    Male     No   Sat  Dinner     2\n",
            "31        18.35   2.50    Male     No   Sat  Dinner     4\n",
            "32        15.06   3.00  Female     No   Sat  Dinner     2\n",
            "33        20.69   2.45  Female     No   Sat  Dinner     4\n",
            "34        17.78   3.27    Male     No   Sat  Dinner     2\n",
            "35        24.06   3.60    Male     No   Sat  Dinner     3\n",
            "36        16.31   2.00    Male     No   Sat  Dinner     3\n",
            "37        16.93   3.07  Female     No   Sat  Dinner     3\n",
            "38        18.69   2.31    Male     No   Sat  Dinner     3\n",
            "39        31.27   5.00    Male     No   Sat  Dinner     3\n",
            "40        16.04   2.24    Male     No   Sat  Dinner     3\n",
            "41        17.46   2.54    Male     No   Sun  Dinner     2\n",
            "42        13.94   3.06    Male     No   Sun  Dinner     2\n",
            "43         9.68   1.32    Male     No   Sun  Dinner     2\n",
            "44        30.40   5.60    Male     No   Sun  Dinner     4\n",
            "45        18.29   3.00    Male     No   Sun  Dinner     2\n",
            "46        22.23   5.00    Male     No   Sun  Dinner     2\n",
            "47        32.40   6.00    Male     No   Sun  Dinner     4\n",
            "48        28.55   2.05    Male     No   Sun  Dinner     3\n",
            "49        18.04   3.00    Male     No   Sun  Dinner     2\n",
            "50        12.54   2.50    Male     No   Sun  Dinner     2\n",
            "51        10.29   2.60  Female     No   Sun  Dinner     2\n",
            "52        34.81   5.20  Female     No   Sun  Dinner     4\n",
            "53         9.94   1.56    Male     No   Sun  Dinner     2\n",
            "54        25.56   4.34    Male     No   Sun  Dinner     4\n",
            "55        19.49   3.51    Male     No   Sun  Dinner     2\n",
            "56        38.01   3.00    Male    Yes   Sat  Dinner     4\n",
            "57        26.41   1.50  Female     No   Sat  Dinner     2\n",
            "58        11.24   1.76    Male    Yes   Sat  Dinner     2\n",
            "59        48.27   6.73    Male     No   Sat  Dinner     4\n",
            "60        20.29   3.21    Male    Yes   Sat  Dinner     2\n",
            "61        13.81   2.00    Male    Yes   Sat  Dinner     2\n",
            "62        11.02   1.98    Male    Yes   Sat  Dinner     2\n",
            "63        18.29   3.76    Male    Yes   Sat  Dinner     4\n",
            "64        17.59   2.64    Male     No   Sat  Dinner     3\n",
            "65        20.08   3.15    Male     No   Sat  Dinner     3\n",
            "66        16.45   2.47  Female     No   Sat  Dinner     2\n",
            "67         3.07   1.00  Female    Yes   Sat  Dinner     1\n",
            "68        20.23   2.01    Male     No   Sat  Dinner     2\n",
            "69        15.01   2.09    Male    Yes   Sat  Dinner     2\n",
            "70        12.02   1.97    Male     No   Sat  Dinner     2\n",
            "71        17.07   3.00  Female     No   Sat  Dinner     3\n",
            "72        26.86   3.14  Female    Yes   Sat  Dinner     2\n",
            "73        25.28   5.00  Female    Yes   Sat  Dinner     2\n",
            "74        14.73   2.20  Female     No   Sat  Dinner     2\n",
            "75        10.51   1.25    Male     No   Sat  Dinner     2\n",
            "76        17.92   3.08    Male    Yes   Sat  Dinner     2\n",
            "77        27.20   4.00    Male     No  Thur   Lunch     4\n",
            "78        22.76   3.00    Male     No  Thur   Lunch     2\n",
            "79        17.29   2.71    Male     No  Thur   Lunch     2\n",
            "80        19.44   3.00    Male    Yes  Thur   Lunch     2\n",
            "81        16.66   3.40    Male     No  Thur   Lunch     2\n",
            "82        10.07   1.83  Female     No  Thur   Lunch     1\n",
            "83        32.68   5.00    Male    Yes  Thur   Lunch     2\n",
            "84        15.98   2.03    Male     No  Thur   Lunch     2\n",
            "85        34.83   5.17  Female     No  Thur   Lunch     4\n",
            "86        13.03   2.00    Male     No  Thur   Lunch     2\n",
            "87        18.28   4.00    Male     No  Thur   Lunch     2\n",
            "88        24.71   5.85    Male     No  Thur   Lunch     2\n",
            "89        21.16   3.00    Male     No  Thur   Lunch     2\n",
            "90        28.97   3.00    Male    Yes   Fri  Dinner     2\n",
            "91        22.49   3.50    Male     No   Fri  Dinner     2\n",
            "92         5.75   1.00  Female    Yes   Fri  Dinner     2\n",
            "93        16.32   4.30  Female    Yes   Fri  Dinner     2\n",
            "94        22.75   3.25  Female     No   Fri  Dinner     2\n",
            "95        40.17   4.73    Male    Yes   Fri  Dinner     4\n",
            "96        27.28   4.00    Male    Yes   Fri  Dinner     2\n",
            "97        12.03   1.50    Male    Yes   Fri  Dinner     2\n",
            "98        21.01   3.00    Male    Yes   Fri  Dinner     2\n",
            "99        12.46   1.50    Male     No   Fri  Dinner     2\n",
            "100       11.35   2.50  Female    Yes   Fri  Dinner     2\n",
            "101       15.38   3.00  Female    Yes   Fri  Dinner     2\n",
            "102       44.30   2.50  Female    Yes   Sat  Dinner     3\n",
            "103       22.42   3.48  Female    Yes   Sat  Dinner     2\n",
            "104       20.92   4.08  Female     No   Sat  Dinner     2\n",
            "105       15.36   1.64    Male    Yes   Sat  Dinner     2\n",
            "106       20.49   4.06    Male    Yes   Sat  Dinner     2\n",
            "107       25.21   4.29    Male    Yes   Sat  Dinner     2\n",
            "108       18.24   3.76    Male     No   Sat  Dinner     2\n",
            "109       14.31   4.00  Female    Yes   Sat  Dinner     2\n",
            "110       14.00   3.00    Male     No   Sat  Dinner     2\n",
            "111        7.25   1.00  Female     No   Sat  Dinner     1\n",
            "112       38.07   4.00    Male     No   Sun  Dinner     3\n",
            "113       23.95   2.55    Male     No   Sun  Dinner     2\n",
            "114       25.71   4.00  Female     No   Sun  Dinner     3\n",
            "115       17.31   3.50  Female     No   Sun  Dinner     2\n",
            "116       29.93   5.07    Male     No   Sun  Dinner     4\n",
            "117       10.65   1.50  Female     No  Thur   Lunch     2\n",
            "118       12.43   1.80  Female     No  Thur   Lunch     2\n",
            "119       24.08   2.92  Female     No  Thur   Lunch     4\n",
            "120       11.69   2.31    Male     No  Thur   Lunch     2\n",
            "121       13.42   1.68  Female     No  Thur   Lunch     2\n",
            "122       14.26   2.50    Male     No  Thur   Lunch     2\n",
            "123       15.95   2.00    Male     No  Thur   Lunch     2\n",
            "124       12.48   2.52  Female     No  Thur   Lunch     2\n",
            "125       29.80   4.20  Female     No  Thur   Lunch     6\n",
            "126        8.52   1.48    Male     No  Thur   Lunch     2\n",
            "127       14.52   2.00  Female     No  Thur   Lunch     2\n",
            "128       11.38   2.00  Female     No  Thur   Lunch     2\n",
            "129       22.82   2.18    Male     No  Thur   Lunch     3\n",
            "130       19.08   1.50    Male     No  Thur   Lunch     2\n",
            "131       20.27   2.83  Female     No  Thur   Lunch     2\n",
            "132       11.17   1.50  Female     No  Thur   Lunch     2\n",
            "133       12.26   2.00  Female     No  Thur   Lunch     2\n",
            "134       18.26   3.25  Female     No  Thur   Lunch     2\n",
            "135        8.51   1.25  Female     No  Thur   Lunch     2\n",
            "136       10.33   2.00  Female     No  Thur   Lunch     2\n",
            "137       14.15   2.00  Female     No  Thur   Lunch     2\n",
            "138       16.00   2.00    Male    Yes  Thur   Lunch     2\n",
            "139       13.16   2.75  Female     No  Thur   Lunch     2\n",
            "140       17.47   3.50  Female     No  Thur   Lunch     2\n",
            "141       34.30   6.70    Male     No  Thur   Lunch     6\n",
            "142       41.19   5.00    Male     No  Thur   Lunch     5\n",
            "143       27.05   5.00  Female     No  Thur   Lunch     6\n",
            "144       16.43   2.30  Female     No  Thur   Lunch     2\n",
            "145        8.35   1.50  Female     No  Thur   Lunch     2\n",
            "146       18.64   1.36  Female     No  Thur   Lunch     3\n",
            "147       11.87   1.63  Female     No  Thur   Lunch     2\n",
            "148        9.78   1.73    Male     No  Thur   Lunch     2\n",
            "149        7.51   2.00    Male     No  Thur   Lunch     2\n",
            "150       14.07   2.50    Male     No   Sun  Dinner     2\n",
            "151       13.13   2.00    Male     No   Sun  Dinner     2\n",
            "152       17.26   2.74    Male     No   Sun  Dinner     3\n",
            "153       24.55   2.00    Male     No   Sun  Dinner     4\n",
            "154       19.77   2.00    Male     No   Sun  Dinner     4\n",
            "155       29.85   5.14  Female     No   Sun  Dinner     5\n",
            "156       48.17   5.00    Male     No   Sun  Dinner     6\n",
            "157       25.00   3.75  Female     No   Sun  Dinner     4\n",
            "158       13.39   2.61  Female     No   Sun  Dinner     2\n",
            "159       16.49   2.00    Male     No   Sun  Dinner     4\n",
            "160       21.50   3.50    Male     No   Sun  Dinner     4\n",
            "161       12.66   2.50    Male     No   Sun  Dinner     2\n",
            "162       16.21   2.00  Female     No   Sun  Dinner     3\n",
            "163       13.81   2.00    Male     No   Sun  Dinner     2\n",
            "164       17.51   3.00  Female    Yes   Sun  Dinner     2\n",
            "165       24.52   3.48    Male     No   Sun  Dinner     3\n",
            "166       20.76   2.24    Male     No   Sun  Dinner     2\n",
            "167       31.71   4.50    Male     No   Sun  Dinner     4\n",
            "168       10.59   1.61  Female    Yes   Sat  Dinner     2\n",
            "169       10.63   2.00  Female    Yes   Sat  Dinner     2\n",
            "170       50.81  10.00    Male    Yes   Sat  Dinner     3\n",
            "171       15.81   3.16    Male    Yes   Sat  Dinner     2\n",
            "172        7.25   5.15    Male    Yes   Sun  Dinner     2\n",
            "173       31.85   3.18    Male    Yes   Sun  Dinner     2\n",
            "174       16.82   4.00    Male    Yes   Sun  Dinner     2\n",
            "175       32.90   3.11    Male    Yes   Sun  Dinner     2\n",
            "176       17.89   2.00    Male    Yes   Sun  Dinner     2\n",
            "177       14.48   2.00    Male    Yes   Sun  Dinner     2\n",
            "178        9.60   4.00  Female    Yes   Sun  Dinner     2\n",
            "179       34.63   3.55    Male    Yes   Sun  Dinner     2\n",
            "180       34.65   3.68    Male    Yes   Sun  Dinner     4\n",
            "181       23.33   5.65    Male    Yes   Sun  Dinner     2\n",
            "182       45.35   3.50    Male    Yes   Sun  Dinner     3\n",
            "183       23.17   6.50    Male    Yes   Sun  Dinner     4\n",
            "184       40.55   3.00    Male    Yes   Sun  Dinner     2\n",
            "185       20.69   5.00    Male     No   Sun  Dinner     5\n",
            "186       20.90   3.50  Female    Yes   Sun  Dinner     3\n",
            "187       30.46   2.00    Male    Yes   Sun  Dinner     5\n",
            "188       18.15   3.50  Female    Yes   Sun  Dinner     3\n",
            "189       23.10   4.00    Male    Yes   Sun  Dinner     3\n",
            "190       15.69   1.50    Male    Yes   Sun  Dinner     2\n",
            "191       19.81   4.19  Female    Yes  Thur   Lunch     2\n",
            "192       28.44   2.56    Male    Yes  Thur   Lunch     2\n",
            "193       15.48   2.02    Male    Yes  Thur   Lunch     2\n",
            "194       16.58   4.00    Male    Yes  Thur   Lunch     2\n",
            "195        7.56   1.44    Male     No  Thur   Lunch     2\n",
            "196       10.34   2.00    Male    Yes  Thur   Lunch     2\n",
            "197       43.11   5.00  Female    Yes  Thur   Lunch     4\n",
            "198       13.00   2.00  Female    Yes  Thur   Lunch     2\n",
            "199       13.51   2.00    Male    Yes  Thur   Lunch     2\n",
            "200       18.71   4.00    Male    Yes  Thur   Lunch     3\n",
            "201       12.74   2.01  Female    Yes  Thur   Lunch     2\n",
            "202       13.00   2.00  Female    Yes  Thur   Lunch     2\n",
            "203       16.40   2.50  Female    Yes  Thur   Lunch     2\n",
            "204       20.53   4.00    Male    Yes  Thur   Lunch     4\n",
            "205       16.47   3.23  Female    Yes  Thur   Lunch     3\n",
            "206       26.59   3.41    Male    Yes   Sat  Dinner     3\n",
            "207       38.73   3.00    Male    Yes   Sat  Dinner     4\n",
            "208       24.27   2.03    Male    Yes   Sat  Dinner     2\n",
            "209       12.76   2.23  Female    Yes   Sat  Dinner     2\n",
            "210       30.06   2.00    Male    Yes   Sat  Dinner     3\n",
            "211       25.89   5.16    Male    Yes   Sat  Dinner     4\n",
            "212       48.33   9.00    Male     No   Sat  Dinner     4\n",
            "213       13.27   2.50  Female    Yes   Sat  Dinner     2\n",
            "214       28.17   6.50  Female    Yes   Sat  Dinner     3\n",
            "215       12.90   1.10  Female    Yes   Sat  Dinner     2\n",
            "216       28.15   3.00    Male    Yes   Sat  Dinner     5\n",
            "217       11.59   1.50    Male    Yes   Sat  Dinner     2\n",
            "218        7.74   1.44    Male    Yes   Sat  Dinner     2\n",
            "219       30.14   3.09  Female    Yes   Sat  Dinner     4\n",
            "220       12.16   2.20    Male    Yes   Fri   Lunch     2\n",
            "221       13.42   3.48  Female    Yes   Fri   Lunch     2\n",
            "222        8.58   1.92    Male    Yes   Fri   Lunch     1\n",
            "223       15.98   3.00  Female     No   Fri   Lunch     3\n",
            "224       13.42   1.58    Male    Yes   Fri   Lunch     2\n",
            "225       16.27   2.50  Female    Yes   Fri   Lunch     2\n",
            "226       10.09   2.00  Female    Yes   Fri   Lunch     2\n",
            "227       20.45   3.00    Male     No   Sat  Dinner     4\n",
            "228       13.28   2.72    Male     No   Sat  Dinner     2\n",
            "229       22.12   2.88  Female    Yes   Sat  Dinner     2\n",
            "230       24.01   2.00    Male    Yes   Sat  Dinner     4\n",
            "231       15.69   3.00    Male    Yes   Sat  Dinner     3\n",
            "232       11.61   3.39    Male     No   Sat  Dinner     2\n",
            "233       10.77   1.47    Male     No   Sat  Dinner     2\n",
            "234       15.53   3.00    Male    Yes   Sat  Dinner     2\n",
            "235       10.07   1.25    Male     No   Sat  Dinner     2\n",
            "236       12.60   1.00    Male    Yes   Sat  Dinner     2\n",
            "237       32.83   1.17    Male    Yes   Sat  Dinner     2\n",
            "238       35.83   4.67  Female     No   Sat  Dinner     3\n",
            "239       29.03   5.92    Male     No   Sat  Dinner     3\n",
            "240       27.18   2.00  Female    Yes   Sat  Dinner     2\n",
            "241       22.67   2.00    Male    Yes   Sat  Dinner     2\n",
            "242       17.82   1.75    Male     No   Sat  Dinner     2\n",
            "243       18.78   3.00  Female     No  Thur  Dinner     2\n"
          ]
        }
      ]
    },
    {
      "cell_type": "code",
      "source": [
        "print(df.isnull().sum())"
      ],
      "metadata": {
        "colab": {
          "base_uri": "https://localhost:8080/"
        },
        "id": "92UUV3kryqUk",
        "outputId": "51cb5f87-5994-4a0a-95fc-bcb108aa86f3"
      },
      "execution_count": 51,
      "outputs": [
        {
          "output_type": "stream",
          "name": "stdout",
          "text": [
            "total_bill    0\n",
            "tip           0\n",
            "sex           0\n",
            "smoker        0\n",
            "day           0\n",
            "time          0\n",
            "size          0\n",
            "dtype: int64\n"
          ]
        }
      ]
    },
    {
      "cell_type": "code",
      "source": [
        "df.isna().any()"
      ],
      "metadata": {
        "colab": {
          "base_uri": "https://localhost:8080/"
        },
        "id": "1uFOxSfSur6N",
        "outputId": "ef58ca1f-3f30-45ad-b34a-45cf5388efa4"
      },
      "execution_count": 52,
      "outputs": [
        {
          "output_type": "execute_result",
          "data": {
            "text/plain": [
              "total_bill    False\n",
              "tip           False\n",
              "sex           False\n",
              "smoker        False\n",
              "day           False\n",
              "time          False\n",
              "size          False\n",
              "dtype: bool"
            ]
          },
          "metadata": {},
          "execution_count": 52
        }
      ]
    },
    {
      "cell_type": "markdown",
      "source": [
        "# Examining the dataset containing the dependent and independent variables"
      ],
      "metadata": {
        "id": "W6-o1F-54Iph"
      }
    },
    {
      "cell_type": "code",
      "source": [
        "#Independent Variable: total_bill\n",
        "#Dependent Variable: tip"
      ],
      "metadata": {
        "id": "cncE9l4R4zbE"
      },
      "execution_count": 53,
      "outputs": []
    },
    {
      "cell_type": "markdown",
      "source": [
        "# **Data Visualization**"
      ],
      "metadata": {
        "id": "gqJPzSGCz_ag"
      }
    },
    {
      "cell_type": "code",
      "source": [
        "import matplotlib.pyplot as plt\n",
        "plt.scatter(df['total_bill'], df['tip'])\n",
        "plt.xlabel('Total Bill (PKR)')\n",
        "plt.ylabel('Tip (PKR)')\n",
        "plt.title('Scatter plot of Total Bill vs Tip')\n",
        "plt.show()"
      ],
      "metadata": {
        "colab": {
          "base_uri": "https://localhost:8080/",
          "height": 472
        },
        "id": "QJTJcWkJur-D",
        "outputId": "b17b0b7d-2b99-4a43-9e24-0ff93c9e4ea1"
      },
      "execution_count": 54,
      "outputs": [
        {
          "output_type": "display_data",
          "data": {
            "text/plain": [
              "<Figure size 640x480 with 1 Axes>"
            ],
            "image/png": "[encoded data removed]"
          },
          "metadata": {}
        }
      ]
    },
    {
      "cell_type": "markdown",
      "source": [
        "# **Model Building**"
      ],
      "metadata": {
        "id": "ITa2BWNt5Zjw"
      }
    },
    {
      "cell_type": "code",
      "source": [
        "X = df[['total_bill']]  # Independent variable\n",
        "y = df['tip']           # Dependent variable"
      ],
      "metadata": {
        "id": "8QNOn1VB5ggU"
      },
      "execution_count": 55,
      "outputs": []
    },
    {
      "cell_type": "code",
      "source": [
        "from sklearn.linear_model import LinearRegression\n",
        "from sklearn.model_selection import train_test_split\n",
        "\n",
        "X_train, X_test, y_train, y_test = train_test_split(X, y, test_size=0.2, random_state=42)\n",
        "\n",
        "\n",
        "model = LinearRegression()\n",
        "model.fit(X_train, y_train)\n",
        "\n",
        "\n",
        "y_pred = model.predict(X_test) #Y = F(B0,B1X)+e"
      ],
      "metadata": {
        "id": "lzUFI7rh5q-M"
      },
      "execution_count": 56,
      "outputs": []
    },
    {
      "cell_type": "markdown",
      "source": [
        "# **Model Evalution**"
      ],
      "metadata": {
        "id": "gpIbmjcV78pa"
      }
    },
    {
      "cell_type": "code",
      "source": [
        "from sklearn.metrics import mean_squared_error, r2_score\n",
        "import numpy as np\n",
        "mse = mean_squared_error(y_test, y_pred)\n",
        "\n",
        "rmse = np.sqrt(mse)\n",
        "r2 = r2_score(y_test, y_pred)\n",
        "\n",
        "print(f\"Intercept: {model.intercept_}\")\n",
        "print(f\"Coefficient: {model.coef_[0]}\")\n",
        "print(f\"Mean Squared Error (MSE): {mse}\")\n",
        "print(f\"Root Mean Squared Error (RMSE): {rmse}\")\n",
        "print(f\"R-squared: {r2}\")"
      ],
      "metadata": {
        "colab": {
          "base_uri": "https://localhost:8080/"
        },
        "id": "2N2lE5uh8K5B",
        "outputId": "b8fd725a-ff5b-498d-f03d-b22007f2ec31"
      },
      "execution_count": 57,
      "outputs": [
        {
          "output_type": "stream",
          "name": "stdout",
          "text": [
            "Intercept: 0.925235558557056\n",
            "Coefficient: 0.10696370685268658\n",
            "Mean Squared Error (MSE): 0.5688142529229536\n",
            "Root Mean Squared Error (RMSE): 0.7541977545199625\n",
            "R-squared: 0.5449381659234664\n"
          ]
        }
      ]
    },
    {
      "cell_type": "markdown",
      "source": [
        "# **Model Result**"
      ],
      "metadata": {
        "id": "lHus9Oo18YyR"
      }
    },
    {
      "cell_type": "code",
      "source": [
        "plt.scatter(X_test, y_test, color='blue', edgecolor='k', alpha=0.7, label='Actual')\n",
        "plt.plot(X_test, y_pred, color='red', linewidth=2, linestyle='--', label='Predicted')\n",
        "\n",
        "plt.xlabel('Total Bill (PKR)', fontsize=14)\n",
        "plt.ylabel('Tip (PKR)', fontsize=14)\n",
        "plt.title('Total Bill vs. Tip with Regression Line', fontsize=16, fontweight='bold')\n",
        "\n",
        "plt.legend(loc='best', frameon=True, shadow=True, fontsize=12)\n",
        "\n",
        "plt.grid(True, linestyle='--', alpha=0.7)\n",
        "\n",
        "plt.tight_layout()\n",
        "\n",
        "plt.show()\n"
      ],
      "metadata": {
        "colab": {
          "base_uri": "https://localhost:8080/",
          "height": 487
        },
        "id": "keQT6LjS8m_K",
        "outputId": "74fb2b7f-4c04-4dbf-e517-7551b938d184"
      },
      "execution_count": 58,
      "outputs": [
        {
          "output_type": "display_data",
          "data": {
            "text/plain": [
              "<Figure size 640x480 with 1 Axes>"
            ],
            "image/png": "[encoded data removed]"
          },
          "metadata": {}
        }
      ]
    },
    {
      "cell_type": "markdown",
      "source": [
        "# **Apply Input to check Result**"
      ],
      "metadata": {
        "id": "CHcStQ7O86Dw"
      }
    },
    {
      "cell_type": "code",
      "source": [
        "import numpy as np\n",
        "import ipywidgets as widgets\n",
        "from IPython.display import display\n",
        "\n",
        "# Placeholder for the model's predict method\n",
        "def predict_tip(total_bill):\n",
        "    # Placeholder logic; replace with actual model prediction\n",
        "    # This should be replaced with: model.predict([[total_bill]])\n",
        "    return 0.15 * total_bill  # Example: 15% of the total bill\n",
        "\n",
        "# Function to handle the prediction and display the result\n",
        "def calculate_tip(b):\n",
        "    total_bill = float(textbox_total_bill.value)\n",
        "    if total_bill <= 2:\n",
        "        result_label.value = \"Sorry, no tips today 😔\"\n",
        "    elif total_bill > 40:\n",
        "        result_label.value = \"Ohh, you give the largest value from table bills 😠\"\n",
        "    else:\n",
        "        predicted_tip = predict_tip(total_bill)\n",
        "        result_label.value = f\"Predicted tip amount: PKR {predicted_tip:.2f}\"\n",
        "\n",
        "# Create input widgets\n",
        "textbox_total_bill = widgets.Text(\n",
        "    value='',\n",
        "    placeholder='Enter total bill amount',\n",
        "    description='Total bill (PKR):',\n",
        "    disabled=False\n",
        ")\n",
        "\n",
        "# Create button widget\n",
        "button_predict = widgets.Button(\n",
        "    description='Predict Tip',\n",
        "    disabled=False,\n",
        "    button_style='',\n",
        "    tooltip='Click to predict tip',\n",
        "    icon=''\n",
        ")\n",
        "\n",
        "\n",
        "result_label = widgets.Label(value='')\n",
        "\n",
        "button_predict.on_click(calculate_tip)\n",
        "\n",
        "display(textbox_total_bill)\n",
        "display(button_predict)\n",
        "display(result_label)\n"
      ],
      "metadata": {
        "colab": {
          "base_uri": "https://localhost:8080/",
          "height": 113,
          "referenced_widgets": [
            "92548b5da2094f6d8d87686271f49b16",
            "ac2a452ccc1f41949321fb3a79da5c8c",
            "a0ed70f8f1d145ad8eb13f980cf7dd8b",
            "5f6d3c5a12d34a569fe09c6b621138ba",
            "2a510b2390bd43789d3b15a7b19b488a",
            "d3f43e0a33604da7bfb11bd78aae0d3b",
            "296d8c02107f4f25b3f790170ff496de",
            "bdb5e5474be2471cafd1d7384c66016e",
            "77f8f62ad1f648ec83fb442bf9bb42ab"
          ]
        },
        "id": "nvmhqHw79EQP",
        "outputId": "fa633f38-d9da-4455-c792-815b5a8c7d2d"
      },
      "execution_count": 59,
      "outputs": [
        {
          "output_type": "display_data",
          "data": {
            "text/plain": [
              "Text(value='', description='Total bill (PKR):', placeholder='Enter total bill amount')"
            ],
            "application/vnd.jupyter.widget-view+json": {
              "version_major": 2,
              "version_minor": 0,
              "model_id": "92548b5da2094f6d8d87686271f49b16"
            }
          },
          "metadata": {}
        },
        {
          "output_type": "display_data",
          "data": {
            "text/plain": [
              "Button(description='Predict Tip', style=ButtonStyle(), tooltip='Click to predict tip')"
            ],
            "application/vnd.jupyter.widget-view+json": {
              "version_major": 2,
              "version_minor": 0,
              "model_id": "5f6d3c5a12d34a569fe09c6b621138ba"
            }
          },
          "metadata": {}
        },
        {
          "output_type": "display_data",
          "data": {
            "text/plain": [
              "Label(value='')"
            ],
            "application/vnd.jupyter.widget-view+json": {
              "version_major": 2,
              "version_minor": 0,
              "model_id": "296d8c02107f4f25b3f790170ff496de"
            }
          },
          "metadata": {}
        }
      ]
    }
  ]
}